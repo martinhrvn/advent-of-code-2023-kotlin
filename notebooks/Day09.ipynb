{
 "cells": [
  {
   "cell_type": "code",
   "execution_count": 8,
   "metadata": {
    "collapsed": true,
    "ExecuteTime": {
     "end_time": "2023-12-09T08:41:34.705503Z",
     "start_time": "2023-12-09T08:41:34.397158Z"
    }
   },
   "outputs": [
    {
     "data": {
      "text/plain": "28"
     },
     "execution_count": 8,
     "metadata": {},
     "output_type": "execute_result"
    }
   ],
   "source": [
    "val input = \"1 3 6 10 15 21\".split(\" \").map { it.toInt() }\n",
    "\n",
    "val seq = generateSequence(0) { it + 1 }\n",
    "\n",
    "val res = seq.scan(input) { row, _ ->\n",
    "    row.windowed(2).map { (i1,i2) -> abs(i1-i2) }\n",
    "}.takeWhile { it.any { n -> n != 0} }\n",
    "\n",
    "res.toList().map { it.last() }.reversed().reduce { acc, i -> acc + i}"
   ]
  },
  {
   "cell_type": "code",
   "execution_count": null,
   "outputs": [],
   "source": [],
   "metadata": {
    "collapsed": false
   }
  }
 ],
 "metadata": {
  "kernelspec": {
   "display_name": "Kotlin",
   "language": "kotlin",
   "name": "kotlin"
  },
  "language_info": {
   "name": "kotlin",
   "version": "1.9.0",
   "mimetype": "text/x-kotlin",
   "file_extension": ".kt",
   "pygments_lexer": "kotlin",
   "codemirror_mode": "text/x-kotlin",
   "nbconvert_exporter": ""
  }
 },
 "nbformat": 4,
 "nbformat_minor": 0
}
